{
 "cells": [
  {
   "cell_type": "markdown",
   "metadata": {},
   "source": [
    "# Gibbs sampler for AR \n",
    "Gibbs sampling is a numerical method that uses draws from conditional distributions to approximate joint and marginal distributions. "
   ]
  },
  {
   "cell_type": "code",
   "execution_count": 1,
   "metadata": {},
   "outputs": [],
   "source": [
    "%matplotlib inline\n",
    "import numpy as np\n",
    "import scipy as sp\n",
    "import matplotlib.pyplot as plt\n",
    "import pandas as pd\n",
    "pd.set_option('display.width', 500)\n",
    "pd.set_option('display.max_columns', 100)\n",
    "import seaborn as sns"
   ]
  },
  {
   "cell_type": "code",
   "execution_count": 2,
   "metadata": {},
   "outputs": [],
   "source": [
    "import os\n",
    "\n",
    "os.chdir(\"E:\\\\master\\\\timeseries\\\\bayesian\")"
   ]
  },
  {
   "cell_type": "code",
   "execution_count": 3,
   "metadata": {},
   "outputs": [
    {
     "data": {
      "text/plain": [
       "'E:\\\\master\\\\timeseries\\\\bayesian'"
      ]
     },
     "execution_count": 3,
     "metadata": {},
     "output_type": "execute_result"
    }
   ],
   "source": [
    "os.getcwd()"
   ]
  },
  {
   "cell_type": "code",
   "execution_count": 4,
   "metadata": {},
   "outputs": [],
   "source": [
    "data=pd.read_excel('inflation.xls', index_col=0)  "
   ]
  },
  {
   "cell_type": "code",
   "execution_count": 5,
   "metadata": {},
   "outputs": [],
   "source": [
    "T=data.shape[0]"
   ]
  },
  {
   "cell_type": "code",
   "execution_count": 6,
   "metadata": {},
   "outputs": [],
   "source": [
    "X=np.ones((T,1))"
   ]
  },
  {
   "cell_type": "code",
   "execution_count": 7,
   "metadata": {},
   "outputs": [],
   "source": [
    "X=np.hstack((X,data.shift(1),data.shift(2)))"
   ]
  },
  {
   "cell_type": "code",
   "execution_count": 8,
   "metadata": {},
   "outputs": [],
   "source": [
    "Y=data[3:]\n",
    "X=X[3:]"
   ]
  },
  {
   "cell_type": "code",
   "execution_count": 9,
   "metadata": {},
   "outputs": [],
   "source": [
    "T=X.shape[0]"
   ]
  },
  {
   "cell_type": "code",
   "execution_count": 151,
   "metadata": {},
   "outputs": [],
   "source": [
    "B0=np.zeros((3,1))\n",
    "sigma0=np.eye(3)\n",
    "T0=1\n",
    "D0=0.1\n",
    "B=B0\n",
    "sigma2=1\n",
    "reps=5000\n",
    "burn=4000\n",
    "out1=[]\n",
    "out2=[]\n",
    "out3=[]"
   ]
  },
  {
   "cell_type": "code",
   "execution_count": 152,
   "metadata": {},
   "outputs": [],
   "source": [
    "for i in range(reps):\n",
    "    M=np.dot(np.linalg.inv(np.linalg.inv(sigma0)+(1/sigma2) * np.dot(X.T,X)),np.dot(np.linalg.inv(sigma0),B0)+(1/sigma2)*np.dot(X.T,Y))\n",
    "    V=np.linalg.inv(np.linalg.inv(sigma0)+(1/sigma2)*np.dot(X.T,X))\n",
    "    check=-1\n",
    "    while check<0:\n",
    "        B=(M+np.dot(np.random.normal(0,1,size=3),np.linalg.cholesky(V)))[:,0]\n",
    "        b=np.vstack((np.hstack((B[1],B[2])),np.array([1,0])))\n",
    "        ee=max(np.absolute(np.linalg.eig(b)[0]))\n",
    "        if ee<=1:\n",
    "            check=1\n",
    "\n",
    "    resids=Y.Inflation-np.dot(X,B)\n",
    "    T1=T0+T\n",
    "    D1=D0+np.dot(resids.T,resids)\n",
    "    z0=np.random.normal(size=T1)\n",
    "    z0z0=np.dot(z0.T,z0)\n",
    "    sigma2=D1/z0z0\n",
    "\n",
    "    if i>burn:\n",
    "        out1.append(B)\n",
    "    \n",
    "        out2.append(sigma2)\n",
    "        #forcest 2 years\n",
    "        yhat=np.zeros((14,1))\n",
    "        yhat[0:2]=Y[-2:]\n",
    "        cfactor=np.sqrt(sigma2)\n",
    "        for m in range(2,14):\n",
    "            yhat[m]=np.dot(np.hstack((1,yhat[m-1],yhat[m-2])),B)+np.random.normal(1)*cfactor\n",
    "        \n",
    "        out3.append(np.vstack((Y,yhat[2:])))\n",
    "        \n",
    "        \n",
    "        \n",
    "                \n",
    "            "
   ]
  },
  {
   "cell_type": "code",
   "execution_count": 153,
   "metadata": {},
   "outputs": [],
   "source": [
    "outx1=out1[0]\n",
    "for i in range(1,len(out1)):\n",
    "    outx1=np.vstack((outx1,out1[i]))"
   ]
  },
  {
   "cell_type": "code",
   "execution_count": 210,
   "metadata": {},
   "outputs": [
    {
     "name": "stdout",
     "output_type": "stream",
     "text": [
      "0.2440668602286782 \n",
      " 1.3807982261383354 \n",
      " -0.4715438245405253\n"
     ]
    }
   ],
   "source": [
    "# import statistics as s\n",
    "print(np.percentile(outx1[:,0],80),'\\n',\n",
    "np.percentile(outx1[:,1],80),'\\n',\n",
    "np.percentile(outx1[:,2],70))\n"
   ]
  },
  {
   "cell_type": "code",
   "execution_count": 155,
   "metadata": {},
   "outputs": [
    {
     "data": {
      "text/plain": [
       "3"
      ]
     },
     "execution_count": 155,
     "metadata": {},
     "output_type": "execute_result"
    }
   ],
   "source": [
    "x=[1,2,3,3]\n",
    "s.mode(x)"
   ]
  },
  {
   "cell_type": "code",
   "execution_count": 200,
   "metadata": {},
   "outputs": [
    {
     "data": {
      "image/png": "[encoded data removed]",
      "text/plain": [
       "<Figure size 432x288 with 4 Axes>"
      ]
     },
     "metadata": {
      "needs_background": "light"
     },
     "output_type": "display_data"
    }
   ],
   "source": [
    "ax1=plt.subplot(221)\n",
    "ax1.hist(outx1[:,0])\n",
    "ax1.set_title('constant')\n",
    "plt.axvline(np.percentile(outx1[:,0],80),color='red')\n",
    "ax2=plt.subplot(222)\n",
    "ax2.hist(outx1[:,1])\n",
    "plt.axvline(np.percentile(outx1[:,1],80),color='red')\n",
    "ax2.set_title(\"AR(1) coefficient\")\n",
    "\n",
    "ax3=plt.subplot(223)\n",
    "ax3.hist(outx1[:,2])\n",
    "plt.axvline(np.percentile(outx1[:,2],70),color='red')\n",
    "ax3.set_title(\"AR(2) coefficient\")\n",
    "ax4=plt.subplot(224)\n",
    "ax4.hist(out2,50)\n",
    "ax4.set_title(\"SIGMA\")\n",
    "\n",
    "\n",
    "plt.tight_layout()\n",
    "plt.show()\n"
   ]
  },
  {
   "cell_type": "markdown",
   "metadata": {},
   "source": [
    "# Forecasting"
   ]
  },
  {
   "cell_type": "code",
   "execution_count": 201,
   "metadata": {},
   "outputs": [],
   "source": [
    "outx=out3[0]\n",
    "for i in range(1,len(out3)):\n",
    "    outx=np.hstack((outx,out3[i]))\n"
   ]
  },
  {
   "cell_type": "code",
   "execution_count": 202,
   "metadata": {},
   "outputs": [],
   "source": [
    "OUTX=np.percentile(outx,[10 ,20, 30, 40, 50, 60, 70, 80, 90],axis=1).T"
   ]
  },
  {
   "cell_type": "code",
   "execution_count": 203,
   "metadata": {},
   "outputs": [],
   "source": [
    "T=np.arange(1947.25,2012.5,0.25)"
   ]
  },
  {
   "cell_type": "code",
   "execution_count": 204,
   "metadata": {},
   "outputs": [
    {
     "data": {
      "image/png": "[encoded data removed]",
      "text/plain": [
       "<Figure size 432x288 with 1 Axes>"
      ]
     },
     "metadata": {
      "needs_background": "light"
     },
     "output_type": "display_data"
    }
   ],
   "source": [
    "plt.plot(T,OUTX)\n",
    "plt.xlim([2000,2013])\n",
    "plt.show()"
   ]
  }
 ],
 "metadata": {
  "kernelspec": {
   "display_name": "Python 3",
   "language": "python",
   "name": "python3"
  },
  "language_info": {
   "codemirror_mode": {
    "name": "ipython",
    "version": 3
   },
   "file_extension": ".py",
   "mimetype": "text/x-python",
   "name": "python",
   "nbconvert_exporter": "python",
   "pygments_lexer": "ipython3",
   "version": "3.6.8"
  }
 },
 "nbformat": 4,
 "nbformat_minor": 2
}
